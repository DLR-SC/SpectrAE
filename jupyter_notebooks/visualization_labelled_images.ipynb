{
 "cells": [
  {
   "cell_type": "markdown",
   "metadata": {},
   "source": [
    "# Visualize the labelled Images\n",
    "\n",
    "You can use this notebook to visualise the images we annotated with the LabelMe tool (https://github.com/wkentaro/labelme).\n",
    "\n",
    "Author(s): Peer Schütt"
   ]
  },
  {
   "cell_type": "code",
   "execution_count": null,
   "metadata": {},
   "outputs": [],
   "source": [
    "%load_ext autoreload\n",
    "%autoreload 2\n",
    "import sys, os\n",
    "\n",
    "parent_dir = os.path.abspath(os.path.join(os.getcwd(), '..'))\n",
    "sys.path.append(parent_dir)\n",
    "\n",
    "import json\n",
    "import os\n",
    "\n",
    "from labelme import utils as labelme_utils\n",
    "from utils import labelme_plot_with_custom_cmap\n",
    "import matplotlib.pyplot as plt\n",
    "import numpy as np"
   ]
  },
  {
   "cell_type": "code",
   "execution_count": null,
   "metadata": {},
   "outputs": [],
   "source": [
    "# change the path to the file you want to visualize\n",
    "labelme_file = \"../sample_images/20250213_135748_207136_NIR_21p6575.json\""
   ]
  },
  {
   "cell_type": "code",
   "execution_count": null,
   "metadata": {},
   "outputs": [],
   "source": [
    "evaluate_keys = ['ErdeXDuenger_1p1_100', 'ErdeXDuenger_1p1_50', 'ErdeXDuenger_1p4_100', 'ErdeXDuenger_1p4_50', 'Erde_100', 'Erde_50', 'Sand_20', 'Sand_50', 'Spectralon_x', 'Waschpulver_25', 'Waschpulver_50', \"Ethanol\"]\n",
    "label_name_to_value = dict(zip(evaluate_keys, np.arange(1, len(evaluate_keys)+1)))\n",
    "\n",
    "data = json.load(open(labelme_file))\n",
    "input_img = labelme_utils.img_b64_to_arr(data.get(\"imageData\"))\n",
    "\n",
    "label_mask = np.zeros(input_img.shape, dtype=np.int32)\n",
    "# Fill in the labeled regions\n",
    "for i, shape in enumerate(data['shapes']):\n",
    "    \n",
    "    label = shape[\"label\"]    \n",
    "    points = shape[\"points\"]\n",
    "    # Convert to numpy array\n",
    "    points = np.array(points, dtype=np.int32)\n",
    "    \n",
    "    # Create binary mask for this shape (1 for shape, 0 elsewhere)\n",
    "    shape_mask = labelme_utils.shape_to_mask(\n",
    "        input_img.shape, points, shape_type=shape['shape_type']\n",
    "    )\n",
    "    mask_value = 0\n",
    "    try: \n",
    "        mask_value = label_name_to_value[label]\n",
    "    except:\n",
    "        mask_value = 0\n",
    "        print(\"No entry found for \", label)\n",
    "    \n",
    "    if label != \"road\":\n",
    "        # Set class index (add 1 to leave 0 as background)\n",
    "        label_mask[shape_mask] = label_name_to_value[label]   \n",
    "\n",
    "value_to_label_name = {v: k for k, v in label_name_to_value.items()}\n",
    "\n",
    "keys_present = list(set(evaluate_keys) & set(label_name_to_value.keys()))\n",
    "labels_to_evaluate = [label_name_to_value[key] for key in keys_present]"
   ]
  },
  {
   "cell_type": "code",
   "execution_count": null,
   "metadata": {},
   "outputs": [],
   "source": [
    "fig1, ax1 = labelme_plot_with_custom_cmap(label_mask, value_to_label_name, road_label=0)"
   ]
  }
 ],
 "metadata": {
  "kernelspec": {
   "display_name": "spectrae",
   "language": "python",
   "name": "python3"
  },
  "language_info": {
   "codemirror_mode": {
    "name": "ipython",
    "version": 3
   },
   "file_extension": ".py",
   "mimetype": "text/x-python",
   "name": "python",
   "nbconvert_exporter": "python",
   "pygments_lexer": "ipython3",
   "version": "3.10.18"
  }
 },
 "nbformat": 4,
 "nbformat_minor": 2
}
